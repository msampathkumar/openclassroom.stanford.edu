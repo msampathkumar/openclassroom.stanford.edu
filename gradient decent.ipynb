{
 "cells": [
  {
   "cell_type": "code",
   "execution_count": 1,
   "metadata": {},
   "outputs": [],
   "source": [
    "import numpy as np\n",
    "from pandas import DataFrame\n",
    "from numpy import array, dot, sum, transpose\n",
    "\n",
    "from matplotlib import pyplot as plt\n",
    "%matplotlib inline"
   ]
  },
  {
   "cell_type": "code",
   "execution_count": 2,
   "metadata": {
    "collapsed": true
   },
   "outputs": [],
   "source": [
    "x = np.array(list(map(float, open('ex2x.dat').read().split())))\n",
    "y = np.array(list(map(float, open('ex2y.dat').read().split())))"
   ]
  },
  {
   "cell_type": "code",
   "execution_count": 3,
   "metadata": {},
   "outputs": [
    {
     "data": {
      "text/plain": [
       "((50,), (50,))"
      ]
     },
     "execution_count": 3,
     "metadata": {},
     "output_type": "execute_result"
    }
   ],
   "source": [
    "x.shape, y.shape"
   ]
  },
  {
   "cell_type": "code",
   "execution_count": 4,
   "metadata": {},
   "outputs": [
    {
     "data": {
      "text/plain": [
       "((50,), (50,))"
      ]
     },
     "execution_count": 4,
     "metadata": {},
     "output_type": "execute_result"
    }
   ],
   "source": [
    "x.shape, y.shape"
   ]
  },
  {
   "cell_type": "code",
   "execution_count": 5,
   "metadata": {},
   "outputs": [
    {
     "data": {
      "text/html": [
       "<div>\n",
       "<table border=\"1\" class=\"dataframe\">\n",
       "  <thead>\n",
       "    <tr style=\"text-align: right;\">\n",
       "      <th></th>\n",
       "      <th>0</th>\n",
       "    </tr>\n",
       "  </thead>\n",
       "  <tbody>\n",
       "    <tr>\n",
       "      <th>0</th>\n",
       "      <td>2.065875</td>\n",
       "    </tr>\n",
       "    <tr>\n",
       "      <th>1</th>\n",
       "      <td>2.368409</td>\n",
       "    </tr>\n",
       "    <tr>\n",
       "      <th>2</th>\n",
       "      <td>2.539993</td>\n",
       "    </tr>\n",
       "    <tr>\n",
       "      <th>3</th>\n",
       "      <td>2.542080</td>\n",
       "    </tr>\n",
       "    <tr>\n",
       "      <th>4</th>\n",
       "      <td>2.549079</td>\n",
       "    </tr>\n",
       "  </tbody>\n",
       "</table>\n",
       "</div>"
      ],
      "text/plain": [
       "          0\n",
       "0  2.065875\n",
       "1  2.368409\n",
       "2  2.539993\n",
       "3  2.542080\n",
       "4  2.549079"
      ]
     },
     "execution_count": 5,
     "metadata": {},
     "output_type": "execute_result"
    }
   ],
   "source": [
    "DataFrame(x).head()"
   ]
  },
  {
   "cell_type": "code",
   "execution_count": 6,
   "metadata": {},
   "outputs": [
    {
     "data": {
      "text/html": [
       "<div>\n",
       "<table border=\"1\" class=\"dataframe\">\n",
       "  <thead>\n",
       "    <tr style=\"text-align: right;\">\n",
       "      <th></th>\n",
       "      <th>0</th>\n",
       "    </tr>\n",
       "  </thead>\n",
       "  <tbody>\n",
       "    <tr>\n",
       "      <th>0</th>\n",
       "      <td>0.779189</td>\n",
       "    </tr>\n",
       "    <tr>\n",
       "      <th>1</th>\n",
       "      <td>0.915968</td>\n",
       "    </tr>\n",
       "    <tr>\n",
       "      <th>2</th>\n",
       "      <td>0.905384</td>\n",
       "    </tr>\n",
       "    <tr>\n",
       "      <th>3</th>\n",
       "      <td>0.905661</td>\n",
       "    </tr>\n",
       "    <tr>\n",
       "      <th>4</th>\n",
       "      <td>0.938989</td>\n",
       "    </tr>\n",
       "  </tbody>\n",
       "</table>\n",
       "</div>"
      ],
      "text/plain": [
       "          0\n",
       "0  0.779189\n",
       "1  0.915968\n",
       "2  0.905384\n",
       "3  0.905661\n",
       "4  0.938989"
      ]
     },
     "execution_count": 6,
     "metadata": {},
     "output_type": "execute_result"
    }
   ],
   "source": [
    "DataFrame(y).head()"
   ]
  },
  {
   "cell_type": "code",
   "execution_count": 7,
   "metadata": {},
   "outputs": [
    {
     "data": {
      "text/html": [
       "<div>\n",
       "<table border=\"1\" class=\"dataframe\">\n",
       "  <thead>\n",
       "    <tr style=\"text-align: right;\">\n",
       "      <th></th>\n",
       "      <th>0</th>\n",
       "    </tr>\n",
       "  </thead>\n",
       "  <tbody>\n",
       "    <tr>\n",
       "      <th>0</th>\n",
       "      <td>0.0</td>\n",
       "    </tr>\n",
       "    <tr>\n",
       "      <th>1</th>\n",
       "      <td>0.0</td>\n",
       "    </tr>\n",
       "  </tbody>\n",
       "</table>\n",
       "</div>"
      ],
      "text/plain": [
       "     0\n",
       "0  0.0\n",
       "1  0.0"
      ]
     },
     "execution_count": 7,
     "metadata": {},
     "output_type": "execute_result"
    }
   ],
   "source": [
    "theta = np.zeros((2, 1))\n",
    "\n",
    "DataFrame(theta)"
   ]
  },
  {
   "cell_type": "code",
   "execution_count": 8,
   "metadata": {},
   "outputs": [
    {
     "data": {
      "text/plain": [
       "<matplotlib.text.Text at 0x10bb19be0>"
      ]
     },
     "execution_count": 8,
     "metadata": {},
     "output_type": "execute_result"
    },
    {
     "data": {
      "image/png": "[encoded data removed]",
      "text/plain": [
       "<matplotlib.figure.Figure at 0x10ba60b38>"
      ]
     },
     "metadata": {},
     "output_type": "display_data"
    }
   ],
   "source": [
    "plt.figure(figsize=(18, 5))\n",
    "plt.plot(x, y, 'o')\n",
    "plt.xlabel('Age(years)')\n",
    "plt.ylabel('Height(meters)')"
   ]
  },
  {
   "cell_type": "markdown",
   "metadata": {},
   "source": [
    "## Theory"
   ]
  },
  {
   "cell_type": "markdown",
   "metadata": {},
   "source": [
    "Lets assume that our data fits into a 2 degree polynomial. Implies like `y = mx + c`, which mean we need to find two variables `m` and `c` as we alreadh have values of `x` and `y`.\n",
    "\n",
    "    theta = [[m], [c]] or(say) [[theta1], [theta2]]\n",
    "\n",
    "Error function:\n",
    "\n",
    "    J(theta) = (1/2M) * Sigma{(i -> 1 to M)power([y_pred_i - y_i], 2)}\n",
    "\n",
    "#### Gradient Decend of this J(theta):\n",
    "\n",
    "Partial derivative of this function `J` with respect `theta1` or `m` is\n",
    "\n",
    "    d(J)/d(theta1) = (1/2M) * Sigma{(i -> 1 to M) * 2 * [y_pred_i - y_i] * x_i }\n",
    "    d(J)/d(theta2) = (1/2M) * Sigma{(i -> 1 to M) * 2 * [y_pred_i - y_i] * 1 }\n",
    "    \n",
    "\n",
    "For point `i`, the equation & derivates looks like below\n",
    "\n",
    "    y_pred_i = y_pred value at point i = m * x_i + c = theta1 * x_i + theta2\n",
    "\n",
    "        d(y_pred_i)/d(theta1) = x_i\n",
    "        d(y_pred_i)/d(theta1) = 1\n",
    "    \n",
    "__Gradient Shifts/Improvemetns:___\n",
    "\n",
    "    theta1 = theta1 - d(J)/d(theta1) * alpha\n",
    "    theta2 = theta2 - d(J)/d(theta2) * alpha\n",
    "\n",
    "Note2: \n",
    "* x_i, y_i are the given values & so are constants.\n",
    "* alpha - learning rate"
   ]
  },
  {
   "cell_type": "markdown",
   "metadata": {},
   "source": [
    "## Adjustments\n",
    "\n",
    "For the sake of vectorisation(converting point to matrices) we need little adjustments.\n",
    "\n",
    "[\n",
    "    y1\n",
    "    y2\n",
    "    y3\n",
    "    ..\n",
    "] = [\n",
    "        (m * x1 + c)\n",
    "        (m * x2 + c),\n",
    "        (m * x3 + c),\n",
    "        ......\n",
    "    ]\n",
    "    \n",
    " = dot([\n",
    "     [x1 1]\n",
    "     [x2 1]\n",
    "     [x3 1]\n",
    " ], [\n",
    "     [m]\n",
    "     [c]\n",
    "]\n",
    ")\n",
    "\n",
    "Y = dot(X, theta)\n",
    "\n",
    "* Y is of shape [no_of_point, 1]\n",
    "* X is of shape [no_of_point, 2]\n",
    "* theta is of shape [2, 1]"
   ]
  },
  {
   "cell_type": "markdown",
   "metadata": {},
   "source": [
    "## Adjusted(vectorised) Gradient Decent\n",
    "\n",
    "\n",
    "    d(J)/d(theta1) = (1/2M) * Sigma{(i -> 1 to M) * 2 * [y_pred_i - y_i] * x_i }\n",
    "    \n",
    "                = (1/M){\n",
    "                    [y_pred_0 - y_0] * x_0 + [y_pred_1 - y_i] * x_1 + ........+ [y_pred_i - y_i] * x_i\n",
    "                    }\n",
    "                = (1/M) * \n",
    "                    dot(\n",
    "                        [[y_pred_0 - y_0], [y_pred_1 - y_1], [y_pred_2 - y_2] ....], # dot product first matrix\n",
    "                        [ [x_0],  # dot product second matric\n",
    "                          [x_1],\n",
    "                          [x_2],\n",
    "                           ....\n",
    "                          [x_0]]\n",
    "                          )\n",
    "                          \n",
    "                = (1/M) * dot((Y_predicted - Y), X1) # new variable introducted as X1\n",
    "\n",
    "\n",
    "    d(J)/d(theta2) = (1/2M) * Sigma{(i -> 1 to M) * 2 * [y_pred_i - y_i] * 1 }\n",
    "    \n",
    "                = (1/M){\n",
    "                    [y_pred_0 - y_0] * 1 + [y_pred_1 - y_i] * 1 + ........+ [y_pred_i - y_i] * 1\n",
    "                    }\n",
    "                = (1/M) * \n",
    "                    dot(\n",
    "                        [[y_pred_0 - y_0], [y_pred_1 - y_1], [y_pred_2 - y_2] ....], # dot product first matrix\n",
    "                        [ [1],  # dot product second matric\n",
    "                          [1],\n",
    "                          [1],\n",
    "                           ....\n",
    "                          [1]]\n",
    "                          )\n",
    "                = (1/M) * dot((Y_predicted - Y), X2) # new variable introduced as X2\n",
    "                \n",
    "                \n",
    "X1 = [[x0], [x2], [x3], ...]\n",
    "X2 = [[1], [1], [1], ...]\n",
    "\n",
    "As we know X = [ [x0 1] # from above adjustment\n",
    "                 [x1 1]\n",
    "                 [x2 1]\n",
    "                 .....\n",
    "                 ]\n",
    "\n",
    "Implies\n",
    "        \n",
    "\n",
    "    theta = theta - d(J)/d(theta) * alpha\n",
    "          = [[theta1], [theta2]] - [[d(J)/d(theta1)], [d(J)/d(theta1)]] # expanded theta to see that matching size\n",
    "          ...\n",
    "          ... (here I had some doubts about shape I did lots of experiments :D )\n",
    "          ...\n",
    "          = theta - (1/M) * (dot((Y_predicted - Y).T, X).T\n",
    "          \n",
    "Note:\n",
    "* `.T` is the Transpose of that Matrix"
   ]
  },
  {
   "cell_type": "markdown",
   "metadata": {},
   "source": [
    "## Application of Principles"
   ]
  },
  {
   "cell_type": "code",
   "execution_count": 77,
   "metadata": {},
   "outputs": [
    {
     "data": {
      "text/plain": [
       "((50,), (50,))"
      ]
     },
     "execution_count": 77,
     "metadata": {},
     "output_type": "execute_result"
    }
   ],
   "source": [
    "#  re-loading data to make sure we did nt do any changes before\n",
    "\n",
    "x = np.array(list(map(float, open('ex2x.dat').read().split())))\n",
    "y = np.array(list(map(float, open('ex2y.dat').read().split())))\n",
    "\n",
    "x.shape, y.shape"
   ]
  },
  {
   "cell_type": "code",
   "execution_count": 78,
   "metadata": {},
   "outputs": [
    {
     "data": {
      "text/plain": [
       "((50, 1), (50, 2), (2, 1))"
      ]
     },
     "execution_count": 78,
     "metadata": {},
     "output_type": "execute_result"
    }
   ],
   "source": [
    "M = 50 # 50 points na - same as len(x)\n",
    "\n",
    "x = np.array([(_, 1) for _ in x])\n",
    "\n",
    "y.shape = (50, 1)\n",
    "\n",
    "theta = np.ones((2, 1))\n",
    "\n",
    "y.shape, x.shape, theta.shape"
   ]
  },
  {
   "cell_type": "code",
   "execution_count": 79,
   "metadata": {
    "scrolled": false
   },
   "outputs": [
    {
     "name": "stdout",
     "output_type": "stream",
     "text": [
      "Iter: 0 \t Error: 4.8588859174 [[ 0.73339214]\n",
      " [ 0.95141114]]\n",
      "Iter: 25 \t Error: 0.0419875774014 [[ 0.05043265]\n",
      " [ 0.82511109]]\n",
      "Iter: 50 \t Error: 0.0416897984622 [[ 0.05060198]\n",
      " [ 0.82315043]]\n",
      "Iter: 75 \t Error: 0.0414522744264 [[ 0.05094362]\n",
      " [ 0.82127237]]\n",
      "Iter: 100 \t Error: 0.0412208761013 [[ 0.05127651]\n",
      " [ 0.81944264]]\n",
      "Iter: 125 \t Error: 0.0409954319091 [[ 0.05160084]\n",
      " [ 0.81765998]]\n",
      "Iter: 150 \t Error: 0.0407757886396 [[ 0.05191683]\n",
      " [ 0.8159232 ]]\n",
      "Iter: 175 \t Error: 0.0405617970289 [[ 0.05222469]\n",
      " [ 0.81423111]]\n",
      "Iter: 200 \t Error: 0.0403533116537 [[ 0.05252462]\n",
      " [ 0.81258255]]\n",
      "Iter: 225 \t Error: 0.0401501908325 [[ 0.05281684]\n",
      " [ 0.81097642]]\n",
      "Iter: 250 \t Error: 0.0399648066812 [[ 0.05310153]\n",
      " [ 0.80941161]]\n"
     ]
    }
   ],
   "source": [
    "scores = []\n",
    "learning_rate = 0.01\n",
    "\n",
    "for i in range(251):\n",
    "    Y_predicted = np.dot(x, theta)\n",
    "    pred_errs = (Y_predicted - y).T\n",
    "    theta = theta - ((1/M) * dot(pred_errs, x).T) * learning_rate\n",
    "    score = np.mean(np.sqrt(pred_errs ** 2))\n",
    "    scores.append(score)\n",
    "    if i % 25 == 0:\n",
    "        print('Iter:', i, '\\t Error:', score, theta)\n",
    "        "
   ]
  },
  {
   "cell_type": "code",
   "execution_count": 80,
   "metadata": {},
   "outputs": [
    {
     "data": {
      "text/plain": [
       "<matplotlib.legend.Legend at 0x111902588>"
      ]
     },
     "execution_count": 80,
     "metadata": {},
     "output_type": "execute_result"
    },
    {
     "data": {
      "image/png": "[encoded data removed]",
      "text/plain": [
       "<matplotlib.figure.Figure at 0x110baf2b0>"
      ]
     },
     "metadata": {},
     "output_type": "display_data"
    }
   ],
   "source": [
    "plt.figure(figsize=(18, 10))\n",
    "\n",
    "ax1, ax2 = plt.subplot(1, 2, 1), plt.subplot(1, 2, 2)\n",
    "\n",
    "ax1.plot(x[:, 0], Y_predicted.ravel(), '*', )\n",
    "ax1.plot(x[:, 0], y, 'o', )\n",
    "ax1.legend(['Green-Actual Values', 'Blue-Predictions'])\n",
    "\n",
    "ax2.plot(range(len(scores)), scores)\n",
    "ax2.legend(['Gradient Decent Scores'])"
   ]
  },
  {
   "cell_type": "code",
   "execution_count": null,
   "metadata": {
    "collapsed": true
   },
   "outputs": [],
   "source": []
  }
 ],
 "metadata": {
  "kernelspec": {
   "display_name": "Python 3",
   "language": "python",
   "name": "python3"
  },
  "language_info": {
   "codemirror_mode": {
    "name": "ipython",
    "version": 3
   },
   "file_extension": ".py",
   "mimetype": "text/x-python",
   "name": "python",
   "nbconvert_exporter": "python",
   "pygments_lexer": "ipython3",
   "version": "3.5.3"
  }
 },
 "nbformat": 4,
 "nbformat_minor": 2
}
